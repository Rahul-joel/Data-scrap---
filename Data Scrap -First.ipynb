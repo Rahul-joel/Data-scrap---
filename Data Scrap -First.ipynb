{
 "cells": [
  {
   "cell_type": "markdown",
   "metadata": {},
   "source": []
  },
  {
   "cell_type": "code",
   "execution_count": null,
   "metadata": {},
   "outputs": [],
   "source": [
    "from selenium import webdriver\n",
    "from selenium.webdriver.common.by import By\n",
    "from selenium.webdriver.common.keys import Keys\n",
    "from selenium.webdriver.support.ui import WebDriverWait\n",
    "from selenium.webdriver.support import expected_conditions as EC\n",
    "import pandas as pd\n",
    "\n",
    "driver=webdriver.Chrome()\n",
    "driver.get('https://www.scrapingcourse.com/ecommerce/')\n",
    "\n",
    "#locating web elements\n",
    "\n",
    "products=driver.find_elements(By.CSS_SELECTOR,'li.product')\n",
    "\n",
    "\n",
    "#empty list to store the craped data\n",
    "products_list=[]\n",
    "\n",
    "for elements in products:\n",
    "    products_name=elements.find_element(By.CSS_SELECTOR,'h2.product-name').text\n",
    "    products_price=elements.find_element(By.CSS_SELECTOR,'span.price').text\n",
    "    products_link=elements.find_element(By.CSS_SELECTOR,'a.woocommerce-LoopProduct-link').get_attribute('href')\n",
    "    empty_dict={'products name':products_name,'products price':products_price,'products link':products_link}\n",
    "    products_list.append(empty_dict)\n",
    "print(products_list)\n",
    "\n",
    "\n",
    "#view the data as dataframe\n",
    "df=pd.DataFrame(products_list)\n",
    "df"
   ]
  }
 ],
 "metadata": {
  "language_info": {
   "name": "python"
  }
 },
 "nbformat": 4,
 "nbformat_minor": 2
}
